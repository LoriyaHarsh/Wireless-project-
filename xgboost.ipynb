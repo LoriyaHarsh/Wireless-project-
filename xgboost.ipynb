{
 "cells": [
  {
   "cell_type": "code",
   "execution_count": 1,
   "metadata": {},
   "outputs": [
    {
     "name": "stdout",
     "output_type": "stream",
     "text": [
      "libraries have imported \n"
     ]
    }
   ],
   "source": [
    "#importing libraries\n",
    "from sklearn.ensemble import RandomForestClassifier\n",
    "from sklearn.model_selection import train_test_split\n",
    "from sklearn.ensemble import GradientBoostingClassifier\n",
    "from sklearn.metrics import confusion_matrix, accuracy_score\n",
    "from sklearn.preprocessing import LabelEncoder\n",
    "import xgboost as xgb\n",
    "import pandas as pd\n",
    "import seaborn as sns\n",
    "import matplotlib.pyplot as plt\n",
    "import numpy as np\n",
    "import glob, os\n",
    "from numpy import dstack\n",
    "\n",
    "# Data Scaling\n",
    "from sklearn.preprocessing import StandardScaler\n",
    "from sklearn.base import TransformerMixin\n",
    "\n",
    "\n",
    "\n",
    "import keras\n",
    "import tensorflow as tf\n",
    "# from tensorflow.keras.models import Sequential\n",
    "# from tensorflow.keras.layers import Dense\n",
    "# from tensorflow.keras.layers import LSTM\n",
    "# from tensorflow.keras.layers import Dropout\n",
    "\n",
    "# from tensorflow.keras.utils import to_categorical\n",
    "from sklearn.metrics import confusion_matrix\n",
    "\n",
    "import seaborn as sns\n",
    "from matplotlib.pyplot import figure\n",
    "\n",
    "print('libraries have imported ')"
   ]
  },
  {
   "cell_type": "code",
   "execution_count": 3,
   "metadata": {},
   "outputs": [
    {
     "name": "stdout",
     "output_type": "stream",
     "text": [
      "['Sitting_Amp_34.csv', 'Empty_Amp_183.csv', 'Walking_48.csv', 'Empty_Amp_197.csv', 'Lying_Amp_15.csv', 'Sitting_Amp_20.csv', 'Walking_60.csv', 'Lying_Amp_282.csv', 'Lying_Amp_296.csv', 'Walking_74.csv', 'Lying_Amp_29.csv', 'Empty_Amp_140.csv', 'Lying_Amp_269.csv', 'Empty_Amp_154.csv', 'Walking_4.csv', 'Lying_Amp_241.csv', 'Empty_Amp_21.csv', 'Empty_Amp_35.csv', 'Lying_Amp_255.csv', 'Empty_Amp_168.csv', 'Sitting_Amp_115.csv', 'Walking_117.csv', 'Sitting_Amp_101.csv', 'Walking_103.csv', 'Sitting_Amp_129.csv', 'Empty_Amp_236.csv', 'Standing_Amp_128.csv', 'Empty_Amp_222.csv', 'Standing_Amp_100.csv', 'Lying_Amp_137.csv', 'Standing_Amp_114.csv', 'Lying_Amp_123.csv', 'Lying_Amp_309.csv', 'Standing_Amp_13.csv', 'Lying_Amp_5.csv', 'Lying_Amp_335.csv', 'Lying_Amp_321.csv', 'Lying_Amp_320.csv', 'Lying_Amp_4.csv', 'Lying_Amp_334.csv', 'Standing_Amp_12.csv', 'Lying_Amp_308.csv', 'Lying_Amp_122.csv', 'Standing_Amp_115.csv', 'Lying_Amp_136.csv', 'Standing_Amp_101.csv', 'Empty_Amp_223.csv', 'Standing_Amp_129.csv', 'Empty_Amp_237.csv', 'Sitting_Amp_128.csv', 'Walking_102.csv', 'Sitting_Amp_100.csv', 'Walking_116.csv', 'Sitting_Amp_114.csv', 'Empty_Amp_34.csv', 'Empty_Amp_169.csv', 'Lying_Amp_254.csv', 'Lying_Amp_240.csv', 'Empty_Amp_20.csv', 'Empty_Amp_155.csv', 'Lying_Amp_268.csv', 'Walking_5.csv', 'Empty_Amp_141.csv', 'Walking_75.csv', 'Lying_Amp_297.csv', 'Lying_Amp_28.csv', 'Lying_Amp_283.csv', 'Walking_61.csv', 'Empty_Amp_196.csv', 'Walking_49.csv', 'Sitting_Amp_21.csv', 'Lying_Amp_14.csv', 'Sitting_Amp_35.csv', 'Empty_Amp_182.csv', 'Lying_Amp_16.csv', 'Sitting_Amp_23.csv', 'Empty_Amp_194.csv', 'Empty_Amp_180.csv', 'Sitting_Amp_37.csv', 'Lying_Amp_295.csv', 'Walking_77.csv', 'Walking_63.csv', 'Lying_Amp_281.csv', 'Walking_7.csv', 'Empty_Amp_157.csv', 'Walking_88.csv', 'Empty_Amp_143.csv', 'Lying_Amp_256.csv', 'Empty_Amp_36.csv', 'Empty_Amp_22.csv', 'Lying_Amp_242.csv', 'Walking_100.csv', 'Sitting_Amp_102.csv', 'Walking_114.csv', 'Sitting_Amp_116.csv', 'Walking_128.csv', 'Empty_Amp_221.csv', 'Empty_Amp_235.csv', 'Lying_Amp_108.csv', 'Standing_Amp_117.csv', 'Lying_Amp_120.csv', 'Standing_Amp_103.csv', 'Empty_Amp_209.csv', 'Lying_Amp_134.csv', 'Empty_Amp_9.csv', 'Standing_Amp_10.csv', 'Lying_Amp_322.csv', 'Lying_Amp_336.csv', 'Standing_Amp_38.csv', 'Lying_Amp_6.csv', 'Lying_Amp_337.csv', 'Lying_Amp_7.csv', 'Standing_Amp_39.csv', 'Lying_Amp_323.csv', 'Standing_Amp_11.csv', 'Empty_Amp_8.csv', 'Lying_Amp_135.csv', 'Empty_Amp_208.csv', 'Standing_Amp_102.csv', 'Lying_Amp_121.csv', 'Standing_Amp_116.csv', 'Lying_Amp_109.csv', 'Empty_Amp_234.csv', 'Empty_Amp_220.csv', 'Walking_129.csv', 'Sitting_Amp_117.csv', 'Walking_115.csv', 'Sitting_Amp_103.csv', 'Walking_101.csv', 'Empty_Amp_23.csv', 'Lying_Amp_243.csv', 'Lying_Amp_257.csv', 'Empty_Amp_37.csv', 'Empty_Amp_142.csv', 'Walking_6.csv', 'Walking_89.csv', 'Empty_Amp_156.csv', 'Lying_Amp_280.csv', 'Walking_62.csv', 'Walking_76.csv', 'Lying_Amp_294.csv', 'Empty_Amp_181.csv', 'Sitting_Amp_36.csv', 'Sitting_Amp_22.csv', 'Lying_Amp_17.csv', 'Empty_Amp_195.csv', 'Lying_Amp_290.csv', 'Walking_72.csv', 'Walking_66.csv', 'Lying_Amp_284.csv', 'Empty_Amp_191.csv', 'Sitting_Amp_26.csv', 'Lying_Amp_13.csv', 'Sitting_Amp_32.csv', 'Empty_Amp_185.csv', 'Empty_Amp_33.csv', 'Lying_Amp_253.csv', 'Lying_Amp_247.csv', 'Empty_Amp_27.csv', 'Empty_Amp_152.csv', 'Walking_2.csv', 'Walking_99.csv', 'Empty_Amp_146.csv', 'Walking_139.csv', 'Walking_105.csv', 'Sitting_Amp_107.csv', 'Walking_111.csv', 'Sitting_Amp_113.csv', 'Standing_Amp_112.csv', 'Lying_Amp_125.csv', 'Empty_Amp_218.csv', 'Standing_Amp_106.csv', 'Lying_Amp_131.csv', 'Lying_Amp_119.csv', 'Empty_Amp_224.csv', 'Empty_Amp_230.csv', 'Lying_Amp_327.csv', 'Standing_Amp_29.csv', 'Lying_Amp_3.csv', 'Lying_Amp_333.csv', 'Standing_Amp_15.csv', 'Standing_Amp_14.csv', 'Lying_Amp_2.csv', 'Lying_Amp_332.csv', 'Lying_Amp_326.csv', 'Standing_Amp_28.csv', 'Empty_Amp_231.csv', 'Empty_Amp_225.csv', 'Lying_Amp_118.csv', 'Lying_Amp_130.csv', 'Standing_Amp_107.csv', 'Empty_Amp_219.csv', 'Lying_Amp_124.csv', 'Standing_Amp_113.csv', 'Sitting_Amp_112.csv', 'Walking_110.csv', 'Sitting_Amp_106.csv', 'Walking_104.csv', 'Walking_138.csv', 'Empty_Amp_147.csv', 'Walking_98.csv', 'Empty_Amp_153.csv', 'Walking_3.csv', 'Lying_Amp_246.csv', 'Empty_Amp_26.csv', 'Empty_Amp_32.csv', 'Lying_Amp_252.csv', 'Sitting_Amp_33.csv', 'Empty_Amp_184.csv', 'Empty_Amp_190.csv', 'Lying_Amp_12.csv', 'Sitting_Amp_27.csv', 'Lying_Amp_285.csv', 'Walking_67.csv', 'Walking_73.csv', 'Lying_Amp_291.csv', 'Walking_65.csv', 'Lying_Amp_287.csv', 'Lying_Amp_38.csv', 'Sitting_Amp_19.csv', 'Lying_Amp_293.csv', 'Walking_71.csv', 'Empty_Amp_186.csv', 'Walking_59.csv', 'Sitting_Amp_31.csv', 'Sitting_Amp_25.csv', 'Lying_Amp_10.csv', 'Empty_Amp_192.csv', 'Empty_Amp_24.csv', 'Empty_Amp_179.csv', 'Lying_Amp_244.csv', 'Lying_Amp_250.csv', 'Empty_Amp_30.csv', 'Empty_Amp_18.csv', 'Empty_Amp_145.csv', 'Lying_Amp_278.csv', 'Walking_1.csv', 'Empty_Amp_151.csv', 'Sitting_Amp_138.csv', 'Sitting_Amp_110.csv', 'Walking_112.csv', 'Sitting_Amp_104.csv', 'Walking_106.csv', 'Standing_Amp_105.csv', 'Lying_Amp_132.csv', 'Standing_Amp_111.csv', 'Lying_Amp_126.csv', 'Standing_Amp_139.csv', 'Empty_Amp_233.csv', 'Empty_Amp_227.csv', 'Lying_Amp_330.csv', 'Lying_Amp_324.csv', 'Standing_Amp_16.csv', 'Lying_Amp_318.csv', 'Standing_Amp_17.csv', 'Lying_Amp_319.csv', 'Lying_Amp_325.csv', 'Lying_Amp_331.csv', 'Lying_Amp_1.csv', 'Empty_Amp_226.csv', 'Empty_Amp_232.csv', 'Standing_Amp_138.csv', 'Lying_Amp_127.csv', 'Standing_Amp_110.csv', 'Lying_Amp_133.csv', 'Standing_Amp_104.csv', 'Walking_107.csv', 'Sitting_Amp_105.csv', 'Walking_113.csv', 'Sitting_Amp_111.csv', 'Sitting_Amp_139.csv', 'Walking_0.csv', 'Empty_Amp_150.csv', 'Empty_Amp_19.csv', 'Lying_Amp_279.csv', 'Empty_Amp_144.csv', 'Lying_Amp_251.csv', 'Empty_Amp_31.csv', 'Empty_Amp_25.csv', 'Lying_Amp_245.csv', 'Empty_Amp_178.csv', 'Lying_Amp_11.csv', 'Sitting_Amp_24.csv', 'Empty_Amp_193.csv', 'Walking_58.csv', 'Empty_Amp_187.csv', 'Sitting_Amp_30.csv', 'Sitting_Amp_18.csv', 'Walking_70.csv', 'Lying_Amp_292.csv', 'Lying_Amp_286.csv', 'Walking_64.csv', 'Lying_Amp_39.csv', 'Standing_Amp_5.csv', 'Lying_Amp_62.csv', 'Sitting_Amp_57.csv', 'Lying_Amp_76.csv', 'Sitting_Amp_43.csv', 'Empty_Amp_81.csv', 'Walking_17.csv', 'Empty_Amp_95.csv', 'Empty_Amp_123.csv', 'Sitting_Amp_94.csv', 'Sitting_Amp_80.csv', 'Empty_Amp_137.csv', 'Standing_Amp_215.csv', 'Empty_Amp_42.csv', 'Lying_Amp_222.csv', 'Lying_Amp_89.csv', 'Standing_Amp_201.csv', 'Lying_Amp_236.csv', 'Empty_Amp_56.csv', 'Walking_174.csv', 'Walking_160.csv', 'Walking_148.csv', 'Standing_Amp_188.csv', 'Lying_Amp_197.csv', 'Lying_Amp_183.csv', 'Lying_Amp_168.csv', 'Empty_Amp_255.csv', 'Lying_0.csv', 'Empty_Amp_241.csv', 'Sitting_Amp_1.csv', 'Standing_Amp_163.csv', 'Lying_Amp_154.csv', 'Standing_Amp_177.csv', 'Lying_Amp_140.csv', 'Walking_202.csv', 'Standing_Amp_64.csv', 'Standing_Amp_70.csv', 'Standing_Amp_58.csv', 'Lying_Amp_342.csv', 'Lying_Amp_343.csv', 'Standing_Amp_59.csv', 'Standing_Amp_71.csv', 'Standing_Amp_65.csv', 'Walking_203.csv', 'Lying_Amp_141.csv', 'Standing_Amp_176.csv', 'Lying_Amp_155.csv', 'Standing_Amp_162.csv', 'Empty_Amp_240.csv', 'Empty_Amp_254.csv', 'Lying_Amp_169.csv', 'Lying_Amp_182.csv', 'Lying_Amp_196.csv', 'Standing_Amp_189.csv', 'Walking_149.csv', 'Walking_161.csv', 'Walking_175.csv', 'Lying_Amp_88.csv', 'Lying_Amp_237.csv', 'Empty_Amp_57.csv', 'Standing_Amp_200.csv', 'Empty_Amp_43.csv', 'Lying_Amp_223.csv', 'Standing_Amp_214.csv', 'Sitting_Amp_81.csv', 'Empty_Amp_136.csv', 'Empty_Amp_122.csv', 'Sitting_Amp_95.csv', 'Empty_Amp_94.csv', 'Walking_16.csv', 'Empty_Amp_80.csv', 'Sitting_Amp_42.csv', 'Lying_Amp_77.csv', 'Standing_Amp_4.csv', 'Sitting_Amp_56.csv', 'Lying_Amp_63.csv', 'Walking_28.csv', 'Lying_Amp_75.csv', 'Sitting_Amp_40.csv', 'Lying_Amp_61.csv', 'Sitting_Amp_54.csv', 'Standing_Amp_6.csv', 'Walking_14.csv', 'Empty_Amp_96.csv', 'Lying_Amp_49.csv', 'Sitting_Amp_68.csv', 'Empty_Amp_82.csv', 'Empty_Amp_69.csv', 'Empty_Amp_134.csv', 'Lying_Amp_209.csv', 'Sitting_Amp_83.csv', 'Sitting_Amp_97.csv', 'Empty_Amp_120.csv', 'Standing_Amp_202.csv', 'Empty_Amp_55.csv', 'Empty_Amp_108.csv', 'Lying_Amp_235.csv', 'Standing_Amp_216.csv', 'Lying_Amp_221.csv', 'Empty_Amp_41.csv', 'Walking_163.csv', 'Walking_177.csv', 'Sitting_Amp_149.csv', 'Walking_188.csv', 'Lying_Amp_180.csv', 'Lying_Amp_194.csv', 'Standing_Amp_148.csv', 'Empty_Amp_242.csv', 'Empty_Amp_256.csv', 'Standing_Amp_174.csv', 'Lying_Amp_143.csv', 'Standing_Amp_160.csv', 'Lying_Amp_157.csv', 'Sitting_Amp_2.csv', 'Walking_201.csv', 'Standing_Amp_98.csv', 'Standing_Amp_73.csv', 'Standing_Amp_67.csv', 'Lying_Amp_341.csv', 'Lying_Amp_340.csv', 'Standing_Amp_66.csv', 'Standing_Amp_72.csv', 'Standing_Amp_99.csv', 'Walking_200.csv', 'Lying_Amp_156.csv', 'Standing_Amp_161.csv', 'Sitting_Amp_3.csv', 'Lying_Amp_142.csv', 'Standing_Amp_175.csv', 'Empty_Amp_257.csv', 'Empty_Amp_243.csv', 'Standing_Amp_149.csv', 'Lying_Amp_195.csv', 'Lying_Amp_181.csv', 'Walking_189.csv', 'Sitting_Amp_148.csv', 'Walking_176.csv', 'Walking_162.csv', 'Lying_Amp_220.csv', 'Empty_Amp_40.csv', 'Standing_Amp_217.csv', 'Empty_Amp_54.csv', 'Lying_Amp_234.csv', 'Empty_Amp_109.csv', 'Standing_Amp_203.csv', 'Sitting_Amp_96.csv', 'Empty_Amp_121.csv', 'Empty_Amp_68.csv', 'Lying_Amp_208.csv', 'Empty_Amp_135.csv', 'Sitting_Amp_82.csv', 'Sitting_Amp_69.csv', 'Empty_Amp_83.csv', 'Empty_Amp_97.csv', 'Walking_15.csv', 'Lying_Amp_48.csv', 'Sitting_Amp_55.csv', 'Lying_Amp_60.csv', 'Standing_Amp_7.csv', 'Walking_29.csv', 'Sitting_Amp_41.csv', 'Lying_Amp_74.csv', 'Sitting_Amp_79.csv', 'Walking_11.csv', 'Empty_Amp_93.csv', 'Empty_Amp_87.csv', 'Lying_Amp_58.csv', 'Sitting_Amp_45.csv', 'Lying_Amp_70.csv', 'Walking_39.csv', 'Standing_Amp_3.csv', 'Sitting_Amp_51.csv', 'Lying_Amp_64.csv', 'Standing_Amp_207.csv', 'Lying_Amp_230.csv', 'Empty_Amp_50.csv', 'Standing_Amp_213.csv', 'Empty_Amp_44.csv', 'Lying_Amp_224.csv', 'Empty_Amp_119.csv', 'Sitting_Amp_86.csv', 'Empty_Amp_131.csv', 'Empty_Amp_78.csv', 'Lying_Amp_218.csv', 'Empty_Amp_125.csv', 'Sitting_Amp_92.csv', 'Walking_166.csv', 'Walking_172.csv', 'Empty_11.csv', 'Walking_199.csv', 'Lying_Amp_185.csv', 'Lying_Amp_191.csv', 'Standing_Amp_171.csv', 'Lying_Amp_146.csv', 'Sitting_Amp_7.csv', 'Standing_Amp_165.csv', 'Lying_Amp_152.csv', 'Empty_Amp_247.csv', 'Standing_Amp_159.csv', 'Empty_Amp_253.csv', 'Standing_Amp_89.csv', 'Walking_204.csv', 'Lying_Amp_344.csv', 'Lying_Amp_350.csv', 'Standing_Amp_76.csv', 'Standing_Amp_62.csv', 'Standing_Amp_63.csv', 'Standing_Amp_77.csv', 'Lying_Amp_345.csv', 'Walking_205.csv', 'Standing_Amp_88.csv', 'Empty_Amp_252.csv', 'Standing_Amp_158.csv', 'Empty_Amp_246.csv', 'Sitting_Amp_6.csv', 'Lying_Amp_153.csv', 'Standing_Amp_164.csv', 'Lying_Amp_147.csv', 'Standing_Amp_170.csv', 'Lying_Amp_190.csv', 'Lying_Amp_184.csv', 'Walking_198.csv', 'Walking_173.csv', 'Walking_167.csv', 'Empty_Amp_79.csv', 'Empty_Amp_124.csv', 'Lying_Amp_219.csv', 'Sitting_Amp_93.csv', 'Sitting_Amp_87.csv', 'Empty_Amp_130.csv', 'Empty_Amp_45.csv', 'Empty_Amp_118.csv', 'Lying_Amp_225.csv', 'Standing_Amp_212.csv', 'Lying_Amp_231.csv', 'Empty_Amp_51.csv', 'Standing_Amp_206.csv', 'Standing_Amp_2.csv', 'Walking_38.csv', 'Lying_Amp_65.csv', 'Sitting_Amp_50.csv', 'Lying_Amp_71.csv', 'Sitting_Amp_44.csv', 'Empty_Amp_86.csv', 'Lying_Amp_59.csv', 'Sitting_Amp_78.csv', 'Empty_Amp_92.csv', 'Walking_10.csv', 'Empty_Amp_84.csv', 'Walking_12.csv', 'Empty_Amp_90.csv', 'Sitting_Amp_52.csv', 'Lying_Amp_67.csv', 'Sitting_Amp_46.csv', 'Lying_Amp_73.csv', 'Lying_Amp_98.csv', 'Standing_Amp_210.csv', 'Lying_Amp_227.csv', 'Empty_Amp_47.csv', 'Standing_Amp_204.csv', 'Empty_Amp_53.csv', 'Lying_Amp_233.csv', 'Sitting_Amp_91.csv', 'Empty_Amp_126.csv', 'Empty_Amp_132.csv', 'Sitting_Amp_85.csv', 'Walking_159.csv', 'Walking_171.csv', 'Walking_165.csv', 'Lying_Amp_192.csv', 'Lying_Amp_186.csv', 'Standing_Amp_199.csv', 'Standing_Amp_166.csv', 'Lying_Amp_151.csv', 'Sitting_Amp_4.csv', 'Standing_Amp_172.csv', 'Lying_Amp_145.csv', 'Empty_Amp_250.csv', 'Empty_Amp_244.csv', 'Lying_Amp_179.csv', 'Walking_207.csv', 'Lying_Amp_347.csv', 'Standing_Amp_49.csv', 'Standing_Amp_61.csv', 'Standing_Amp_75.csv', 'Standing_Amp_74.csv', 'Standing_Amp_60.csv', 'Lying_Amp_346.csv', 'Standing_Amp_48.csv', 'Walking_206.csv', 'Lying_Amp_178.csv', 'Empty_Amp_245.csv', 'Empty_Amp_251.csv', 'Lying_Amp_144.csv', 'Standing_Amp_173.csv', 'Lying_Amp_150.csv', 'Standing_Amp_167.csv', 'Sitting_Amp_5.csv', 'Standing_Amp_198.csv', 'Lying_Amp_187.csv', 'Lying_Amp_193.csv', 'Walking_164.csv', 'Walking_170.csv', 'Walking_158.csv', 'Empty_Amp_133.csv', 'Sitting_Amp_84.csv', 'Sitting_Amp_90.csv', 'Empty_Amp_127.csv', 'Empty_Amp_52.csv', 'Lying_Amp_232.csv', 'Standing_Amp_205.csv', 'Lying_Amp_99.csv', 'Lying_Amp_226.csv', 'Empty_Amp_46.csv', 'Standing_Amp_211.csv', 'Lying_Amp_72.csv', 'Sitting_Amp_47.csv', 'Lying_Amp_66.csv', 'Sitting_Amp_53.csv', 'Standing_Amp_1.csv', 'Empty_Amp_91.csv', 'Walking_13.csv', 'Empty_Amp_85.csv', 'Lying_Amp_43.csv', 'Sitting_Amp_76.csv', 'Lying_Amp_57.csv', 'Sitting_Amp_62.csv', 'Empty_Amp_88.csv', 'Walking_22.csv', 'Walking_36.csv', 'Standing_Amp_208.csv', 'Empty_Amp_102.csv', 'Lying_Amp_80.csv', 'Lying_Amp_94.csv', 'Empty_Amp_116.csv', 'Lying_Amp_203.csv', 'Empty_Amp_63.csv', 'Sitting_Amp_89.csv', 'Standing_Amp_220.csv', 'Empty_Amp_77.csv', 'Lying_Amp_217.csv', 'Walking_155.csv', 'Walking_141.csv', 'Sitting_Amp_143.csv', 'Walking_169.csv', 'Walking_196.csv', 'Walking_182.csv', 'Standing_Amp_181.csv', 'Standing_Amp_195.csv', 'Lying_Amp_149.csv', 'Empty_Amp_260.csv', 'Sitting_Amp_8.csv', 'Standing_Amp_142.csv', 'Lying_Amp_175.csv', 'Empty_Amp_248.csv', 'Standing_Amp_156.csv', 'Lying_Amp_161.csv', 'Standing_Amp_86.csv', 'Standing_Amp_92.csv', 'Standing_Amp_45.csv', 'Standing_Amp_51.csv', 'Standing_Amp_79.csv', 'Standing_Amp_78.csv', 'Standing_Amp_50.csv', 'Standing_Amp_44.csv', 'Standing_Amp_93.csv', 'Standing_Amp_87.csv', 'Lying_Amp_160.csv', 'Standing_Amp_157.csv', 'Empty_Amp_249.csv', 'Lying_Amp_174.csv', 'Standing_Amp_143.csv', 'Empty_Amp_261.csv', 'Sitting_Amp_9.csv', 'Lying_Amp_148.csv', 'Standing_Amp_194.csv', 'Standing_Amp_180.csv', 'Walking_183.csv', 'Walking_197.csv', 'Walking_168.csv', 'Sitting_Amp_142.csv', 'Walking_140.csv', 'Walking_154.csv', 'Empty_Amp_76.csv', 'Lying_Amp_216.csv', 'Lying_Amp_202.csv', 'Empty_Amp_62.csv', 'Sitting_Amp_88.csv', 'Lying_Amp_95.csv', 'Empty_Amp_117.csv', 'Empty_Amp_103.csv', 'Standing_Amp_209.csv', 'Lying_Amp_81.csv', 'Walking_37.csv', 'Walking_23.csv', 'Sitting_Amp_63.csv', 'Lying_Amp_56.csv', 'Empty_Amp_89.csv', 'Sitting_Amp_77.csv', 'Lying_Amp_42.csv', 'Lying_Amp_54.csv', 'Sitting_Amp_61.csv', 'Lying_Amp_40.csv', 'Sitting_Amp_75.csv', 'Walking_35.csv', 'Lying_Amp_68.csv', 'Sitting_Amp_49.csv', 'Walking_21.csv', 'Empty_Amp_115.csv', 'Lying_Amp_228.csv', 'Empty_Amp_48.csv', 'Lying_Amp_97.csv', 'Lying_Amp_83.csv', 'Empty_Amp_101.csv', 'Empty_Amp_129.csv', 'Lying_Amp_214.csv', 'Empty_Amp_74.csv', 'Empty_Amp_60.csv', 'Lying_Amp_200.csv', 'Sitting_Amp_140.csv', 'Walking_142.csv', 'Walking_156.csv', 'Walking_181.csv', 'Walking_195.csv', 'Lying_Amp_189.csv', 'Standing_Amp_196.csv', 'Standing_Amp_182.csv', 'Standing_Amp_169.csv', 'Empty_Amp_263.csv', 'Standing_Amp_155.csv', 'Lying_Amp_162.csv', 'Standing_Amp_141.csv', 'Lying_Amp_176.csv', 'Standing_Amp_91.csv', 'Standing_Amp_85.csv', 'Walking_208.csv', 'Standing_Amp_52.csv', 'Standing_Amp_46.csv', 'Lying_Amp_348.csv', 'Standing_Amp_47.csv', 'Lying_Amp_349.csv', 'Standing_Amp_53.csv', 'Standing_Amp_84.csv', 'Standing_Amp_90.csv', 'Lying_Amp_177.csv', 'Standing_Amp_140.csv', 'Lying_Amp_163.csv', 'Standing_Amp_154.csv', 'Empty_Amp_262.csv', 'Standing_Amp_168.csv', 'Standing_Amp_183.csv', 'Standing_Amp_197.csv', 'Lying_Amp_188.csv', 'Walking_194.csv', 'Walking_180.csv', 'Standing_0.csv', 'Walking_157.csv', 'Walking_143.csv', 'Sitting_Amp_141.csv', 'Empty_Amp_61.csv', 'Lying_Amp_201.csv', 'Lying_Amp_215.csv', 'Empty_Amp_128.csv', 'Empty_Amp_75.csv', 'Lying_Amp_82.csv', 'Empty_Amp_100.csv', 'Lying_Amp_229.csv', 'Empty_Amp_114.csv', 'Empty_Amp_49.csv', 'Lying_Amp_96.csv', 'Sitting_Amp_48.csv', 'Walking_20.csv', 'Walking_34.csv', 'Lying_Amp_69.csv', 'Sitting_Amp_74.csv', 'Lying_Amp_41.csv', 'Sitting_Amp_60.csv', 'Lying_Amp_55.csv', 'Sitting_Amp_58.csv', 'Walking_30.csv', 'Walking_24.csv', 'Lying_Amp_79.csv', 'Sitting_Amp_64.csv', 'Lying_Amp_51.csv', 'Walking_18.csv', 'Sitting_Amp_70.csv', 'Lying_Amp_45.csv', 'Empty_Amp_71.csv', 'Lying_Amp_211.csv', 'Lying_Amp_205.csv', 'Empty_Amp_138.csv', 'Empty_Amp_65.csv', 'Lying_Amp_92.csv', 'Empty_Amp_110.csv', 'Lying_Amp_239.csv', 'Empty_Amp_104.csv', 'Empty_Amp_59.csv', 'Lying_Amp_86.csv', 'Sitting_Amp_145.csv', 'Walking_147.csv', 'Sitting_Amp_151.csv', 'Walking_153.csv', 'Walking_184.csv', 'Walking_190.csv', 'Standing_Amp_193.csv', 'Standing_Amp_187.csv', 'Lying_Amp_198.csv', 'Standing_Amp_150.csv', 'Lying_Amp_167.csv', 'Standing_Amp_144.csv', 'Lying_Amp_173.csv', 'Empty_Amp_266.csv', 'Standing_Amp_178.csv', 'Standing_Amp_94.csv', 'Standing_Amp_80.csv', 'Standing_Amp_57.csv', 'Standing_Amp_43.csv', 'Standing_Amp_42.csv', 'Standing_Amp_56.csv', 'Standing_Amp_81.csv', 'Standing_Amp_95.csv', 'Standing_Amp_179.csv', 'Lying_Amp_172.csv', 'Standing_Amp_145.csv', 'Lying_Amp_166.csv', 'Standing_Amp_151.csv', 'Lying_Amp_199.csv', 'Standing_Amp_186.csv', 'Standing_Amp_192.csv', 'Walking_191.csv', 'Walking_185.csv', 'Walking_152.csv', 'Sitting_Amp_150.csv', 'Walking_146.csv', 'Sitting_Amp_144.csv', 'Empty_Amp_105.csv', 'Lying_Amp_238.csv', 'Empty_Amp_58.csv', 'Lying_Amp_87.csv', 'Lying_Amp_93.csv', 'Empty_Amp_111.csv', 'Empty_Amp_139.csv', 'Lying_Amp_204.csv', 'Empty_Amp_64.csv', 'Empty_Amp_70.csv', 'Lying_Amp_210.csv', 'Walking_19.csv', 'Lying_Amp_44.csv', 'Sitting_Amp_71.csv', 'Lying_Amp_50.csv', 'Sitting_Amp_65.csv', 'Walking_25.csv', 'Lying_Amp_78.csv', 'Sitting_Amp_59.csv', 'Walking_31.csv', 'Walking_27.csv', 'Standing_Amp_9.csv', 'Walking_33.csv', 'Sitting_Amp_73.csv', 'Lying_Amp_46.csv', 'Empty_Amp_99.csv', 'Sitting_Amp_67.csv', 'Lying_Amp_52.csv', 'Empty_Amp_66.csv', 'Lying_Amp_206.csv', 'Lying_Amp_212.csv', 'Empty_Amp_72.csv', 'Sitting_Amp_98.csv', 'Lying_Amp_85.csv', 'Empty_Amp_107.csv', 'Standing_Amp_219.csv', 'Empty_Amp_113.csv', 'Lying_Amp_91.csv', 'Walking_178.csv', 'Walking_150.csv', 'Sitting_Amp_152.csv', 'Walking_144.csv', 'Sitting_Amp_146.csv', 'Sitting_0.csv', 'Walking_193.csv', 'Walking_187.csv', 'Standing_Amp_184.csv', 'Standing_Amp_190.csv', 'Standing_Amp_147.csv', 'Lying_Amp_170.csv', 'Standing_Amp_153.csv', 'Empty_Amp_259.csv', 'Lying_Amp_164.csv', 'Empty_Amp_265.csv', 'Lying_Amp_158.csv', 'Standing_Amp_83.csv', 'Standing_Amp_97.csv', 'Standing_Amp_68.csv', 'Standing_Amp_40.csv', 'Standing_Amp_54.csv', 'Standing_Amp_55.csv', 'Standing_Amp_41.csv', 'Standing_Amp_69.csv', 'Standing_Amp_96.csv', 'Standing_Amp_82.csv', 'Lying_Amp_159.csv', 'Empty_Amp_264.csv', 'Lying_Amp_165.csv', 'Empty_Amp_258.csv', 'Standing_Amp_152.csv', 'Lying_Amp_171.csv', 'Standing_Amp_146.csv', 'Standing_Amp_191.csv', 'Standing_Amp_185.csv', 'Walking_186.csv', 'Walking_192.csv', 'Sitting_Amp_147.csv', 'Walking_145.csv', 'Walking_151.csv', 'Walking_179.csv', 'Empty_Amp_112.csv', 'Standing_Amp_218.csv', 'Lying_Amp_90.csv', 'Lying_Amp_84.csv', 'Empty_Amp_106.csv', 'Lying_Amp_213.csv', 'Empty_Amp_73.csv', 'Sitting_Amp_99.csv', 'Empty_Amp_67.csv', 'Lying_Amp_207.csv', 'Lying_Amp_53.csv', 'Sitting_Amp_66.csv', 'Lying_Amp_47.csv', 'Sitting_Amp_72.csv', 'Empty_Amp_98.csv', 'Walking_32.csv', 'Standing_Amp_8.csv', 'Walking_26.csv', 'Lying_Amp_20.csv', 'Sitting_Amp_15.csv', 'Walking_69.csv', 'Lying_Amp_34.csv', 'Sitting_Amp_29.csv', 'Walking_41.csv', 'Walking_55.csv', 'Empty_Amp_161.csv', 'Lying_Amp_248.csv', 'Empty_Amp_175.csv', 'Empty_Amp_28.csv', 'Walking_82.csv', 'Lying_Amp_260.csv', 'Lying_Amp_274.csv', 'Empty_Amp_149.csv', 'Empty_Amp_14.csv', 'Walking_96.csv', 'Sitting_Amp_134.csv', 'Walking_136.csv', 'Sitting_Amp_120.csv', 'Walking_122.csv', 'Sitting_Amp_108.csv', 'Empty_Amp_217.csv', 'Standing_Amp_109.csv', 'Empty_Amp_203.csv', 'Standing_Amp_121.csv', 'Lying_Amp_116.csv', 'Standing_Amp_135.csv', 'Lying_Amp_102.csv', 'Empty_Amp_3.csv', 'Standing_Amp_26.csv', 'Lying_Amp_328.csv', 'Standing_Amp_32.csv', 'Lying_Amp_314.csv', 'Lying_Amp_300.csv', 'Lying_Amp_301.csv', 'Lying_Amp_315.csv', 'Standing_Amp_33.csv', 'Standing_Amp_27.csv', 'Lying_Amp_329.csv', 'Empty_Amp_2.csv', 'Lying_Amp_103.csv', 'Standing_Amp_134.csv', 'Lying_Amp_117.csv', 'Standing_Amp_120.csv', 'Empty_Amp_202.csv', 'Standing_Amp_108.csv', 'Empty_Amp_216.csv', 'Sitting_Amp_109.csv', 'Walking_123.csv', 'Sitting_Amp_121.csv', 'Walking_137.csv', 'Sitting_Amp_135.csv', 'Walking_97.csv', 'Empty_Amp_148.csv', 'Lying_Amp_275.csv', 'Empty_Amp_15.csv', 'Lying_Amp_261.csv', 'Walking_83.csv', 'Empty_Amp_174.csv', 'Lying_Amp_249.csv', 'Empty_Amp_29.csv', 'Empty_Amp_160.csv', 'Walking_54.csv', 'Sitting_Amp_28.csv', 'Walking_40.csv', 'Walking_68.csv', 'Lying_Amp_35.csv', 'Sitting_Amp_14.csv', 'Lying_Amp_21.csv', 'Lying_Amp_37.csv', 'Lying_Amp_288.csv', 'Lying_Amp_23.csv', 'Sitting_Amp_16.csv', 'Walking_56.csv', 'Empty_Amp_189.csv', 'Walking_42.csv', 'Empty_Amp_176.csv', 'Empty_Amp_162.csv', 'Empty_Amp_17.csv', 'Lying_Amp_277.csv', 'Walking_95.csv', 'Walking_81.csv', 'Lying_Amp_263.csv', 'Walking_121.csv', 'Sitting_Amp_123.csv', 'Walking_135.csv', 'Sitting_Amp_137.csv', 'Walking_109.csv', 'Empty_Amp_200.csv', 'Empty_Amp_214.csv', 'Lying_Amp_129.csv', 'Standing_Amp_136.csv', 'Lying_Amp_101.csv', 'Standing_Amp_122.csv', 'Empty_Amp_228.csv', 'Lying_Amp_115.csv', 'Standing_Amp_31.csv', 'Standing_Amp_25.csv', 'Lying_Amp_303.csv', 'Lying_Amp_317.csv', 'Standing_Amp_19.csv', 'Lying_Amp_316.csv', 'Standing_Amp_18.csv', 'Lying_Amp_302.csv', 'Standing_Amp_24.csv', 'Standing_Amp_30.csv', 'Empty_Amp_1.csv', 'Lying_Amp_114.csv', 'Empty_Amp_229.csv', 'Standing_Amp_123.csv', 'Lying_Amp_100.csv', 'Standing_Amp_137.csv', 'Lying_Amp_128.csv', 'Empty_Amp_215.csv', 'Empty_Amp_201.csv', 'Walking_108.csv', 'Sitting_Amp_136.csv', 'Walking_134.csv', 'Sitting_Amp_122.csv', 'Walking_120.csv', 'Lying_Amp_262.csv', 'Walking_80.csv', 'Walking_94.csv', 'Empty_Amp_16.csv', 'Lying_Amp_276.csv', 'Empty_Amp_163.csv', 'Empty_Amp_177.csv', 'Walking_43.csv', 'Empty_Amp_188.csv', 'Walking_57.csv', 'Sitting_Amp_17.csv', 'Lying_Amp_22.csv', 'Lying_Amp_36.csv', 'Lying_Amp_289.csv', 'Walking_53.csv', 'Empty_Amp_198.csv', 'Walking_47.csv', 'Lying_Amp_32.csv', 'Sitting_Amp_13.csv', 'Lying_Amp_26.csv', 'Lying_Amp_299.csv', 'Lying_Amp_272.csv', 'Empty_Amp_12.csv', 'Walking_90.csv', 'Walking_84.csv', 'Lying_Amp_266.csv', 'Empty_Amp_173.csv', 'Empty_Amp_167.csv', 'Walking_118.csv', 'Walking_124.csv', 'Sitting_Amp_126.csv', 'Walking_130.csv', 'Sitting_Amp_132.csv', 'Standing_Amp_133.csv', 'Lying_Amp_104.csv', 'Empty_Amp_239.csv', 'Standing_Amp_127.csv', 'Lying_Amp_110.csv', 'Lying_Amp_138.csv', 'Empty_Amp_205.csv', 'Empty_Amp_211.csv', 'Empty_Amp_5.csv', 'Lying_Amp_306.csv', 'Lying_Amp_312.csv', 'Standing_Amp_34.csv', 'Standing_Amp_20.csv', 'Standing_Amp_21.csv', 'Standing_Amp_35.csv', 'Lying_Amp_313.csv', 'Lying_Amp_307.csv', 'Empty_Amp_4.csv', 'Empty_Amp_210.csv', 'Empty_Amp_204.csv', 'Lying_Amp_139.csv', 'Lying_Amp_111.csv', 'Standing_Amp_126.csv', 'Empty_Amp_238.csv', 'Lying_Amp_105.csv', 'Standing_Amp_132.csv', 'Sitting_Amp_133.csv', 'Walking_131.csv', 'Sitting_Amp_127.csv', 'Walking_125.csv', 'Walking_119.csv', 'Empty_Amp_166.csv', 'Empty_Amp_172.csv', 'Lying_Amp_267.csv', 'Walking_85.csv', 'Walking_91.csv', 'Lying_Amp_273.csv', 'Empty_Amp_13.csv', 'Lying_Amp_27.csv', 'Sitting_Amp_12.csv', 'Lying_Amp_298.csv', 'Lying_Amp_33.csv', 'Walking_46.csv', 'Empty_Amp_199.csv', 'Walking_52.csv', 'Walking_44.csv', 'Lying_Amp_19.csv', 'Sitting_Amp_38.csv', 'Walking_50.csv', 'Walking_78.csv', 'Sitting_Amp_10.csv', 'Lying_Amp_25.csv', 'Lying_Amp_31.csv', 'Walking_87.csv', 'Empty_Amp_158.csv', 'Lying_Amp_265.csv', 'Walking_8.csv', 'Empty_Amp_11.csv', 'Lying_Amp_271.csv', 'Walking_93.csv', 'Empty_Amp_164.csv', 'Lying_Amp_259.csv', 'Empty_Amp_39.csv', 'Empty_Amp_170.csv', 'Sitting_Amp_119.csv', 'Sitting_Amp_131.csv', 'Walking_133.csv', 'Sitting_Amp_125.csv', 'Walking_127.csv', 'Standing_Amp_124.csv', 'Lying_Amp_113.csv', 'Standing_Amp_130.csv', 'Lying_Amp_107.csv', 'Standing_Amp_118.csv', 'Empty_Amp_212.csv', 'Empty_Amp_206.csv', 'Empty_Amp_6.csv', 'Lying_Amp_311.csv', 'Lying_Amp_305.csv', 'Standing_Amp_23.csv', 'Lying_Amp_9.csv', 'Standing_Amp_37.csv', 'Lying_Amp_339.csv', 'Standing_Amp_36.csv', 'Lying_Amp_8.csv', 'Lying_Amp_338.csv', 'Standing_Amp_22.csv', 'Lying_Amp_304.csv', 'Lying_Amp_310.csv', 'Empty_Amp_7.csv', 'Empty_Amp_207.csv', 'Empty_Amp_213.csv', 'Standing_Amp_119.csv', 'Lying_Amp_106.csv', 'Standing_Amp_131.csv', 'Lying_Amp_112.csv', 'Standing_Amp_125.csv', 'Walking_126.csv', 'Sitting_Amp_124.csv', 'Walking_132.csv', 'Sitting_Amp_130.csv', 'Sitting_Amp_118.csv', 'Empty_Amp_171.csv', 'Lying_Amp_258.csv', 'Empty_Amp_165.csv', 'Empty_Amp_38.csv', 'Walking_92.csv', 'Empty_Amp_10.csv', 'Lying_Amp_270.csv', 'Lying_Amp_264.csv', 'Empty_Amp_159.csv', 'Walking_86.csv', 'Walking_9.csv', 'Lying_Amp_30.csv', 'Walking_79.csv', 'Lying_Amp_24.csv', 'Sitting_Amp_11.csv', 'Sitting_Amp_39.csv', 'Walking_51.csv', 'Walking_45.csv', 'Lying_Amp_18.csv']\n"
     ]
    }
   ],
   "source": [
    "path = \"/Users/loriyaharsh/Desktop/HARSH/UGRP/Human motion detection /Experiment- 3/Data\" #set path\n",
    "os.chdir(path) \n",
    "results = pd.DataFrame([]) \n",
    "list_file = glob.glob(\"*.csv\") \n",
    "print(list_file)\n",
    "\n",
    "\n",
    "def reading_file(activity_csv):     \n",
    "    results = []\n",
    "    for i in range(len(activity_csv)):\n",
    "        df = pd.read_csv(activity_csv[i])\n",
    "        results.append(df.values)\n",
    "\n",
    "    \n",
    "\n",
    "    return results\n",
    "\n",
    "\n",
    "empty_csv = [i for i in list_file if i.startswith('Empty')] \n",
    "lying_csv = [i for i in list_file if i.startswith('Lying')]  \n",
    "sitting_csv = [i for i in list_file if i.startswith('Sitting')]  \n",
    "standing_csv = [i for i in list_file if i.startswith('Standing')]  \n",
    "walking_csv = [i for i in list_file if i.startswith('Walking')]  \n",
    "\n",
    "\n",
    "empty = reading_file(empty_csv) \n",
    "lying = reading_file(lying_csv)\n",
    "sitting = reading_file(sitting_csv)\n",
    "standing = reading_file(standing_csv)\n",
    "walking = reading_file(walking_csv)\n",
    " \n",
    "def label(activity, label):\n",
    "    list_y = []\n",
    "    for i in range(len(activity)):\n",
    "        list_y.append(label)\n",
    "\n",
    "    return np.array(list_y).reshape(-1, 1) \n",
    "    \n",
    "walking_label = label(walking, 'walking') \n",
    "empty_label = label(empty, 'empty') \n",
    "lying_label = label(lying, 'lying') \n",
    "sitting_label = label(sitting, 'sitting') \n",
    "standing_label = label(standing, 'standing') \n",
    "\n",
    "\n",
    "\n",
    "array_tuple = (empty, lying, sitting,standing, walking)\n",
    "data_X = np.vstack(array_tuple)\n",
    "\n",
    "\n",
    "label_tuple = (empty_label, lying_label, sitting_label,standing_label,  walking_label)\n",
    "data_y = np.vstack(label_tuple)\n",
    "\n",
    "\n",
    "from sklearn.utils import shuffle\n",
    "data_X, data_y= shuffle(data_X, data_y)"
   ]
  },
  {
   "cell_type": "code",
   "execution_count": 32,
   "metadata": {},
   "outputs": [],
   "source": [
    "\n",
    "from sklearn.model_selection import train_test_split\n",
    "X = data_X\n",
    "y = data_y\n",
    "\n",
    "\n",
    "# from sklearn.preprocessing import LabelEncoder\n",
    "\n",
    "# label_encoder = LabelEncoder()\n",
    "# y = label_encoder.fit_transform(data_y)\n",
    "\n",
    "\n",
    "X_train, X_test, y_train, y_test = train_test_split(X, y, test_size=.20, random_state=42)"
   ]
  },
  {
   "cell_type": "code",
   "execution_count": 33,
   "metadata": {},
   "outputs": [],
   "source": [
    "X_train_2d = X_train.reshape(X_train.shape[0], -1)\n",
    "flat_y_train = [label for sublist in y_train if sublist for label in sublist]\n",
    "label_mapping = {label: index for index, label in enumerate(np.unique(flat_y_train))}\n",
    "y_train = np.array([[label_mapping[label] for label in labels] for labels in y_train])"
   ]
  },
  {
   "cell_type": "code",
   "execution_count": 34,
   "metadata": {},
   "outputs": [],
   "source": [
    "# xgb_classifier = xgb.XGBClassifier(n_estimators=100, random_state=42)\n",
    "\n",
    "# # Train the model\n",
    "# xgb_classifier.fit(X_train_2d, y_train)\n",
    "\n",
    "# # Reshape X_test to 2D array\n",
    "# X_test_2d = X_test.reshape(X_test.shape[0], -1)\n",
    "\n",
    "# # Prediction on the test set\n",
    "# y_pred = xgb_classifier.predict(X_test_2d)\n",
    "\n",
    "# # Confusion Matrix and Accuracy\n",
    "# conf_matrix = confusion_matrix(y_test, y_pred)\n",
    "# accuracy = accuracy_score(y_test, y_pred)\n",
    "\n",
    "# # Output the results\n",
    "# print(\"XGBoost Confusion Matrix:\")\n",
    "# print(conf_matrix)\n",
    "# print(\"Accuracy:\", accuracy)\n",
    "\n",
    "\n",
    "\n",
    "# xgb_classifier = xgb.XGBClassifier(n_estimators=100, random_state=42, num_class=5)\n",
    "xgb_classifier = xgb.XGBClassifier(n_estimators=100, learning_rate=0.1, max_depth=3, random_state=42, num_class=5)\n",
    "\n",
    "\n",
    "\n",
    "xgb_classifier.fit(X_train_2d, y_train)\n",
    "\n",
    "\n",
    "y_pred = xgb_classifier.predict(X_test)\n",
    "\n",
    "\n",
    "accuracy = accuracy_score(y_test, y_pred)\n",
    "conf_matrix = confusion_matrix(y_test, y_pred)\n",
    "\n",
    "\n",
    "print(\"XGBoost Confusion Matrix:\")\n",
    "print(conf_matrix)\n",
    "print(\"Accuracy:\", accuracy)\n"
   ]
  }
 ],
 "metadata": {
  "kernelspec": {
   "display_name": "Python 3",
   "language": "python",
   "name": "python3"
  },
  "language_info": {
   "codemirror_mode": {
    "name": "ipython",
    "version": 3
   },
   "file_extension": ".py",
   "mimetype": "text/x-python",
   "name": "python",
   "nbconvert_exporter": "python",
   "pygments_lexer": "ipython3",
   "version": "3.11.4"
  },
  "orig_nbformat": 4
 },
 "nbformat": 4,
 "nbformat_minor": 2
}
